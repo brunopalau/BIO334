{
 "cells": [
  {
   "cell_type": "code",
   "execution_count": 1,
   "metadata": {},
   "outputs": [
    {
     "name": "stderr",
     "output_type": "stream",
     "text": [
      "/Library/Python/3.8/site-packages/cobra/core/dictlist.py:214: SyntaxWarning: \"is\" with a literal. Did you mean \"==\"?\n",
      "  if current_length is 0:\n"
     ]
    }
   ],
   "source": [
    "import sys\n",
    "\n",
    "sys.path.append(\"/Library/Python/3.8/site-packages\")\n",
    "\n",
    "import cobra\n",
    "\n",
    "from cobra import Model, Reaction, Metabolite"
   ]
  },
  {
   "cell_type": "code",
   "execution_count": 25,
   "metadata": {},
   "outputs": [
    {
     "name": "stdout",
     "output_type": "stream",
     "text": [
      "GLCtr  R1 : glc_D_e + h_e <=> glc_D + h : -1000.0 : 1000.0\n",
      "GLCPTS  R2 : glc_D_e + pep --> g6p + pyr : 0.0 : 1000.0\n",
      "HEX  R3 : atp + glc_D <=> adp + g6p : -1000.0 : 1000.0\n",
      "PYRtr  R4 : h_e + pyr_e <=> h + pyr : -1000.0 : 1000.0\n",
      "LACtr  R5 : h + lac_D <=> h_e + lac_D_e : -1000.0 : 1000.0\n",
      "Htr  R6 : h_e <=> h : -1000.0 : 1000.0\n",
      "O2tr  R7 : o2_e <=> o2 : -1000.0 : 1000.0\n",
      "H2Otr  R8 : h2o_e <=> h2o : -1000.0 : 1000.0\n",
      "PGI  R9 : g6p <=> f6p : -1000.0 : 1000.0\n",
      "PFK  R10 : atp + f6p --> adp + fdp + h : 0.0 : 1000.0\n",
      "FBP  R11 : fdp + h2o --> f6p + pi : 0.0 : 1000.0\n",
      "FBA  R12 : fdp <=> dhap + g3p : -1000.0 : 1000.0\n",
      "TPI  R13 : dhap <=> g3p : -1000.0 : 1000.0\n",
      "GAPD  R14 : g3p + nad + pi <=> 13dpg + h + nadh : -1000.0 : 1000.0\n",
      "PGK  R15 : 13dpg + adp <=> 3pg + atp : -1000.0 : 1000.0\n",
      "PGM  R16 : 3pg <=> 2pg : -1000.0 : 1000.0\n",
      "ENO  R17 : 2pg <=> h2o + pep : -1000.0 : 1000.0\n",
      "PYK  R18 : adp + h + pep --> atp + pyr : 0.0 : 1000.0\n",
      "LDH  R19 : nadh + pyr <=> lac_D + nad : -1000.0 : 1000.0\n",
      "BIOMASS  R20 : atp --> adp + pi : 0.0 : 1000.0\n",
      "EX_glc_D  R21 : glc_D_e <=>  : -10.0 : 1000.0\n",
      "EX_h  R22 : h_e <=>  : -1000.0 : 1000.0\n",
      "EX_pyr  R23 : pyr_e <=>  : -1000.0 : 1000.0\n",
      "EX_lac_D  R24 : lac_D_e <=>  : -1000.0 : 1000.0\n",
      "EX_o2  R25 : o2_e <=>  : -1000.0 : 1000.0\n",
      "EX_h2o  R26 : h2o_e <=>  : -1000.0 : 1000.0\n"
     ]
    }
   ],
   "source": [
    "# exercise 2.1\n",
    "\n",
    "## import model\n",
    "cobra_model = cobra.io.read_sbml_model('glycolysis.xml')\n",
    "\n",
    "for x in cobra_model.reactions:\n",
    "    print(f\"{x.name}  {x.id} : {x.reaction} : {x.lower_bound} : {x.upper_bound}\")"
   ]
  },
  {
   "cell_type": "code",
   "execution_count": 26,
   "metadata": {},
   "outputs": [
    {
     "name": "stdout",
     "output_type": "stream",
     "text": [
      "h_e\n",
      "glc_D\n",
      "h\n",
      "glc_D_e\n",
      "pyr\n",
      "pep\n",
      "g6p\n",
      "adp\n",
      "atp\n",
      "pyr_e\n",
      "lac_D\n",
      "lac_D_e\n",
      "o2_e\n",
      "o2\n",
      "h2o_e\n",
      "h2o\n",
      "f6p\n",
      "fdp\n",
      "pi\n",
      "g3p\n",
      "dhap\n",
      "nad\n",
      "13dpg\n",
      "nadh\n",
      "3pg\n",
      "2pg\n"
     ]
    }
   ],
   "source": [
    "# provide metabolites\n",
    "list_meta = []\n",
    "for x in cobra_model.metabolites:\n",
    "    list_meta .append(x)\n",
    "    print(x.id)"
   ]
  },
  {
   "cell_type": "code",
   "execution_count": 27,
   "metadata": {},
   "outputs": [
    {
     "data": {
      "text/latex": [
       "$\\displaystyle 1.0 R_{20} - 1.0 R_{20 reverse 0060f}$"
      ],
      "text/plain": [
       "1.0*R20 - 1.0*R20_reverse_0060f"
      ]
     },
     "execution_count": 27,
     "metadata": {},
     "output_type": "execute_result"
    }
   ],
   "source": [
    "cobra_model.objective.expression"
   ]
  },
  {
   "cell_type": "code",
   "execution_count": 28,
   "metadata": {},
   "outputs": [
    {
     "name": "stdout",
     "output_type": "stream",
     "text": [
      "20.0\n",
      "Objective\n",
      "=========\n",
      "1.0 R20 = 20.0\n",
      "\n",
      "Uptake\n",
      "------\n",
      "Metabolite Reaction Flux  C-Number C-Flux\n",
      "   glc_D_e      R21   10         0  0.00%\n",
      "\n",
      "Secretion\n",
      "---------\n",
      "Metabolite Reaction Flux  C-Number C-Flux\n",
      "       h_e      R22  -20         0  0.00%\n",
      "   lac_D_e      R24  -20         0  0.00%\n",
      "     h2o_e      R26  -20         0  0.00%\n",
      "\n"
     ]
    }
   ],
   "source": [
    "# perform fba\n",
    "\n",
    "# we maximize the consumption of atp as that automatically optomizes the productino of atp,\n",
    "# and this way we dont have to maximize each singl reaction where atp is produces\n",
    "fba_solution = cobra_model.optimize()\n",
    "print(fba_solution.objective_value)\n",
    "print(cobra_model.summary())"
   ]
  },
  {
   "cell_type": "code",
   "execution_count": 29,
   "metadata": {},
   "outputs": [
    {
     "data": {
      "text/html": [
       "<div>\n",
       "<style scoped>\n",
       "    .dataframe tbody tr th:only-of-type {\n",
       "        vertical-align: middle;\n",
       "    }\n",
       "\n",
       "    .dataframe tbody tr th {\n",
       "        vertical-align: top;\n",
       "    }\n",
       "\n",
       "    .dataframe thead th {\n",
       "        text-align: right;\n",
       "    }\n",
       "</style>\n",
       "<table border=\"1\" class=\"dataframe\">\n",
       "  <thead>\n",
       "    <tr style=\"text-align: right;\">\n",
       "      <th></th>\n",
       "      <th>ids</th>\n",
       "      <th>growth</th>\n",
       "      <th>status</th>\n",
       "    </tr>\n",
       "  </thead>\n",
       "  <tbody>\n",
       "    <tr>\n",
       "      <th>0</th>\n",
       "      <td>{R22}</td>\n",
       "      <td>0.000000e+00</td>\n",
       "      <td>optimal</td>\n",
       "    </tr>\n",
       "    <tr>\n",
       "      <th>1</th>\n",
       "      <td>{R19}</td>\n",
       "      <td>0.000000e+00</td>\n",
       "      <td>optimal</td>\n",
       "    </tr>\n",
       "    <tr>\n",
       "      <th>2</th>\n",
       "      <td>{R1}</td>\n",
       "      <td>2.000000e+01</td>\n",
       "      <td>optimal</td>\n",
       "    </tr>\n",
       "    <tr>\n",
       "      <th>3</th>\n",
       "      <td>{R7}</td>\n",
       "      <td>2.000000e+01</td>\n",
       "      <td>optimal</td>\n",
       "    </tr>\n",
       "    <tr>\n",
       "      <th>4</th>\n",
       "      <td>{R3}</td>\n",
       "      <td>2.000000e+01</td>\n",
       "      <td>optimal</td>\n",
       "    </tr>\n",
       "    <tr>\n",
       "      <th>5</th>\n",
       "      <td>{R25}</td>\n",
       "      <td>2.000000e+01</td>\n",
       "      <td>optimal</td>\n",
       "    </tr>\n",
       "    <tr>\n",
       "      <th>6</th>\n",
       "      <td>{R20}</td>\n",
       "      <td>0.000000e+00</td>\n",
       "      <td>optimal</td>\n",
       "    </tr>\n",
       "    <tr>\n",
       "      <th>7</th>\n",
       "      <td>{R14}</td>\n",
       "      <td>0.000000e+00</td>\n",
       "      <td>optimal</td>\n",
       "    </tr>\n",
       "    <tr>\n",
       "      <th>8</th>\n",
       "      <td>{R6}</td>\n",
       "      <td>2.000000e+01</td>\n",
       "      <td>optimal</td>\n",
       "    </tr>\n",
       "    <tr>\n",
       "      <th>9</th>\n",
       "      <td>{R13}</td>\n",
       "      <td>0.000000e+00</td>\n",
       "      <td>optimal</td>\n",
       "    </tr>\n",
       "    <tr>\n",
       "      <th>10</th>\n",
       "      <td>{R4}</td>\n",
       "      <td>2.000000e+01</td>\n",
       "      <td>optimal</td>\n",
       "    </tr>\n",
       "    <tr>\n",
       "      <th>11</th>\n",
       "      <td>{R5}</td>\n",
       "      <td>0.000000e+00</td>\n",
       "      <td>optimal</td>\n",
       "    </tr>\n",
       "    <tr>\n",
       "      <th>12</th>\n",
       "      <td>{R12}</td>\n",
       "      <td>0.000000e+00</td>\n",
       "      <td>optimal</td>\n",
       "    </tr>\n",
       "    <tr>\n",
       "      <th>13</th>\n",
       "      <td>{R11}</td>\n",
       "      <td>2.000000e+01</td>\n",
       "      <td>optimal</td>\n",
       "    </tr>\n",
       "    <tr>\n",
       "      <th>14</th>\n",
       "      <td>{R2}</td>\n",
       "      <td>2.000000e+01</td>\n",
       "      <td>optimal</td>\n",
       "    </tr>\n",
       "    <tr>\n",
       "      <th>15</th>\n",
       "      <td>{R18}</td>\n",
       "      <td>2.000000e+01</td>\n",
       "      <td>optimal</td>\n",
       "    </tr>\n",
       "    <tr>\n",
       "      <th>16</th>\n",
       "      <td>{R9}</td>\n",
       "      <td>1.776357e-15</td>\n",
       "      <td>optimal</td>\n",
       "    </tr>\n",
       "    <tr>\n",
       "      <th>17</th>\n",
       "      <td>{R23}</td>\n",
       "      <td>2.000000e+01</td>\n",
       "      <td>optimal</td>\n",
       "    </tr>\n",
       "    <tr>\n",
       "      <th>18</th>\n",
       "      <td>{R17}</td>\n",
       "      <td>1.776357e-15</td>\n",
       "      <td>optimal</td>\n",
       "    </tr>\n",
       "    <tr>\n",
       "      <th>19</th>\n",
       "      <td>{R16}</td>\n",
       "      <td>-5.329071e-15</td>\n",
       "      <td>optimal</td>\n",
       "    </tr>\n",
       "    <tr>\n",
       "      <th>20</th>\n",
       "      <td>{R15}</td>\n",
       "      <td>1.776357e-15</td>\n",
       "      <td>optimal</td>\n",
       "    </tr>\n",
       "    <tr>\n",
       "      <th>21</th>\n",
       "      <td>{R8}</td>\n",
       "      <td>-5.329071e-15</td>\n",
       "      <td>optimal</td>\n",
       "    </tr>\n",
       "    <tr>\n",
       "      <th>22</th>\n",
       "      <td>{R24}</td>\n",
       "      <td>-8.881784e-15</td>\n",
       "      <td>optimal</td>\n",
       "    </tr>\n",
       "    <tr>\n",
       "      <th>23</th>\n",
       "      <td>{R26}</td>\n",
       "      <td>-5.329071e-15</td>\n",
       "      <td>optimal</td>\n",
       "    </tr>\n",
       "    <tr>\n",
       "      <th>24</th>\n",
       "      <td>{R10}</td>\n",
       "      <td>1.776357e-15</td>\n",
       "      <td>optimal</td>\n",
       "    </tr>\n",
       "    <tr>\n",
       "      <th>25</th>\n",
       "      <td>{R21}</td>\n",
       "      <td>0.000000e+00</td>\n",
       "      <td>optimal</td>\n",
       "    </tr>\n",
       "  </tbody>\n",
       "</table>\n",
       "</div>"
      ],
      "text/plain": [
       "      ids        growth   status\n",
       "0   {R22}  0.000000e+00  optimal\n",
       "1   {R19}  0.000000e+00  optimal\n",
       "2    {R1}  2.000000e+01  optimal\n",
       "3    {R7}  2.000000e+01  optimal\n",
       "4    {R3}  2.000000e+01  optimal\n",
       "5   {R25}  2.000000e+01  optimal\n",
       "6   {R20}  0.000000e+00  optimal\n",
       "7   {R14}  0.000000e+00  optimal\n",
       "8    {R6}  2.000000e+01  optimal\n",
       "9   {R13}  0.000000e+00  optimal\n",
       "10   {R4}  2.000000e+01  optimal\n",
       "11   {R5}  0.000000e+00  optimal\n",
       "12  {R12}  0.000000e+00  optimal\n",
       "13  {R11}  2.000000e+01  optimal\n",
       "14   {R2}  2.000000e+01  optimal\n",
       "15  {R18}  2.000000e+01  optimal\n",
       "16   {R9}  1.776357e-15  optimal\n",
       "17  {R23}  2.000000e+01  optimal\n",
       "18  {R17}  1.776357e-15  optimal\n",
       "19  {R16} -5.329071e-15  optimal\n",
       "20  {R15}  1.776357e-15  optimal\n",
       "21   {R8} -5.329071e-15  optimal\n",
       "22  {R24} -8.881784e-15  optimal\n",
       "23  {R26} -5.329071e-15  optimal\n",
       "24  {R10}  1.776357e-15  optimal\n",
       "25  {R21}  0.000000e+00  optimal"
      ]
     },
     "execution_count": 29,
     "metadata": {},
     "output_type": "execute_result"
    }
   ],
   "source": [
    "# exercise 2.2\n",
    "\n",
    "from cobra.flux_analysis import single_reaction_deletion\n",
    "\n",
    "# find if GLCPTS is essential (R2)\n",
    "\n",
    "del_results = single_reaction_deletion(cobra_model)\n",
    "del_results # so R2 is not essential"
   ]
  },
  {
   "cell_type": "code",
   "execution_count": 30,
   "metadata": {},
   "outputs": [
    {
     "data": {
      "text/html": [
       "<h3>nadh</h3><p></p><h4>Producing Reactions</h4><table border=\"1\" class=\"dataframe\">\n",
       "  <thead>\n",
       "    <tr style=\"text-align: right;\">\n",
       "      <th>Percent</th>\n",
       "      <th>Flux</th>\n",
       "      <th>Reaction</th>\n",
       "      <th>Definition</th>\n",
       "    </tr>\n",
       "  </thead>\n",
       "  <tbody>\n",
       "    <tr>\n",
       "      <td>100.00%</td>\n",
       "      <td>20</td>\n",
       "      <td>R14</td>\n",
       "      <td>g3p + nad + pi &lt;=&gt; 13dpg + h + nadh</td>\n",
       "    </tr>\n",
       "  </tbody>\n",
       "</table><h4>Consuming Reactions</h4><table border=\"1\" class=\"dataframe\">\n",
       "  <thead>\n",
       "    <tr style=\"text-align: right;\">\n",
       "      <th>Percent</th>\n",
       "      <th>Flux</th>\n",
       "      <th>Reaction</th>\n",
       "      <th>Definition</th>\n",
       "    </tr>\n",
       "  </thead>\n",
       "  <tbody>\n",
       "    <tr>\n",
       "      <td>100.00%</td>\n",
       "      <td>-20</td>\n",
       "      <td>R19</td>\n",
       "      <td>nadh + pyr &lt;=&gt; lac_D + nad</td>\n",
       "    </tr>\n",
       "  </tbody>\n",
       "</table>"
      ],
      "text/plain": [
       "<cobra.summary.metabolite_summary.MetaboliteSummary at 0x7f8ca0c8bb80>"
      ]
     },
     "execution_count": 30,
     "metadata": {},
     "output_type": "execute_result"
    }
   ],
   "source": [
    "# exercise 2.3\n",
    "\n",
    "## is LDH an essential reaction? (19)\n",
    "cobra_model.metabolites.nadh.summary()\n",
    "# yes, because of nadh consumption/production"
   ]
  },
  {
   "cell_type": "code",
   "execution_count": 59,
   "metadata": {},
   "outputs": [
    {
     "name": "stdout",
     "output_type": "stream",
     "text": [
      "Acetaldehyde dehydrogenase (acetylating)  ACALD : acald_c + coa_c + nad_c <=> accoa_c + h_c + nadh_c : -1000.0 : 1000.0\n",
      "Acetaldehyde reversible transport  ACALDt : acald_e <=> acald_c : -1000.0 : 1000.0\n",
      "Acetate kinase  ACKr : ac_c + atp_c <=> actp_c + adp_c : -1000.0 : 1000.0\n",
      "Aconitase (half-reaction A, Citrate hydro-lyase)  ACONTa : cit_c <=> acon_C_c + h2o_c : -1000.0 : 1000.0\n",
      "Aconitase (half-reaction B, Isocitrate hydro-lyase)  ACONTb : acon_C_c + h2o_c <=> icit_c : -1000.0 : 1000.0\n",
      "Acetate reversible transport via proton symport  ACt2r : ac_e + h_e <=> ac_c + h_c : -1000.0 : 1000.0\n",
      "Adenylate kinase  ADK1 : amp_c + atp_c <=> 2.0 adp_c : -1000.0 : 1000.0\n",
      "2-Oxogluterate dehydrogenase  AKGDH : akg_c + coa_c + nad_c --> co2_c + nadh_c + succoa_c : 0.0 : 1000.0\n",
      "2 oxoglutarate reversible transport via symport  AKGt2r : akg_e + h_e <=> akg_c + h_c : -1000.0 : 1000.0\n",
      "Alcohol dehydrogenase (ethanol)  ALCD2x : etoh_c + nad_c <=> acald_c + h_c + nadh_c : -1000.0 : 1000.0\n",
      "ATP maintenance requirement  ATPM : atp_c + h2o_c --> adp_c + h_c + pi_c : 8.39 : 1000.0\n",
      "ATP synthase (four protons for one ATP)  ATPS4r : adp_c + 4.0 h_e + pi_c <=> atp_c + h2o_c + 3.0 h_c : -1000.0 : 1000.0\n",
      "Biomass Objective Function with GAM  BIOMASS_Ecoli_core_w_GAM : 1.496 3pg_c + 3.7478 accoa_c + 59.81 atp_c + 0.361 e4p_c + 0.0709 f6p_c + 0.129 g3p_c + 0.205 g6p_c + 0.2557 gln__L_c + 4.9414 glu__L_c + 59.81 h2o_c + 3.547 nad_c + 13.0279 nadph_c + 1.7867 oaa_c + 0.5191 pep_c + 2.8328 pyr_c + 0.8977 r5p_c --> 59.81 adp_c + 4.1182 akg_c + 3.7478 coa_c + 59.81 h_c + 3.547 nadh_c + 13.0279 nadp_c + 59.81 pi_c : 0.0 : 1000.0\n",
      "CO2 transporter via diffusion  CO2t : co2_e <=> co2_c : -1000.0 : 1000.0\n",
      "Citrate synthase  CS : accoa_c + h2o_c + oaa_c --> cit_c + coa_c + h_c : 0.0 : 1000.0\n",
      "Cytochrome oxidase bd (ubiquinol-8: 2 protons)  CYTBD : 2.0 h_c + 0.5 o2_c + q8h2_c --> h2o_c + 2.0 h_e + q8_c : 0.0 : 1000.0\n",
      "D lactate transport via proton symport  D_LACt2 : h_e + lac__D_e <=> h_c + lac__D_c : -1000.0 : 1000.0\n",
      "Enolase  ENO : 2pg_c <=> h2o_c + pep_c : -1000.0 : 1000.0\n",
      "ETOHt2r  ETOHt2r : etoh_e + h_e <=> etoh_c + h_c : -1000.0 : 1000.0\n",
      "Acetate exchange  EX_ac_e : ac_e -->  : 0.0 : 1000.0\n",
      "Acetaldehyde exchange  EX_acald_e : acald_e -->  : 0.0 : 1000.0\n",
      "2-Oxoglutarate exchange  EX_akg_e : akg_e -->  : 0.0 : 1000.0\n",
      "CO2 exchange  EX_co2_e : co2_e <=>  : -1000.0 : 1000.0\n",
      "Ethanol exchange  EX_etoh_e : etoh_e -->  : 0.0 : 1000.0\n",
      "Formate exchange  EX_for_e : for_e -->  : 0.0 : 1000.0\n",
      "D-Fructose exchange  EX_fru_e : fru_e -->  : 0.0 : 1000.0\n",
      "Fumarate exchange  EX_fum_e : fum_e -->  : 0.0 : 1000.0\n",
      "D-Glucose exchange  EX_glc__D_e : glc__D_e <=>  : -10.0 : 1000.0\n",
      "L-Glutamine exchange  EX_gln__L_e : gln__L_e -->  : 0.0 : 1000.0\n",
      "L-Glutamate exchange  EX_glu__L_e : glu__L_e -->  : 0.0 : 1000.0\n",
      "H+ exchange  EX_h_e : h_e <=>  : -1000.0 : 1000.0\n",
      "H2O exchange  EX_h2o_e : h2o_e <=>  : -1000.0 : 1000.0\n",
      "D-lactate exchange  EX_lac__D_e : lac__D_e -->  : 0.0 : 1000.0\n",
      "L-Malate exchange  EX_mal__L_e : mal__L_e -->  : 0.0 : 1000.0\n",
      "Ammonia exchange  EX_nh4_e : nh4_e <=>  : -1000.0 : 1000.0\n",
      "O2 exchange  EX_o2_e : o2_e <=>  : -20.0 : 1000.0\n",
      "Phosphate exchange  EX_pi_e : pi_e <=>  : -1000.0 : 1000.0\n",
      "Pyruvate exchange  EX_pyr_e : pyr_e -->  : 0.0 : 1000.0\n",
      "Succinate exchange  EX_succ_e : succ_e -->  : 0.0 : 1000.0\n",
      "Fructose-bisphosphate aldolase  FBA : fdp_c <=> dhap_c + g3p_c : -1000.0 : 1000.0\n",
      "Fructose-bisphosphatase  FBP : fdp_c + h2o_c --> f6p_c + pi_c : 0.0 : 1000.0\n",
      "Formate transport in via proton symport  FORt2 : for_e + h_e --> for_c + h_c : 0.0 : 1000.0\n",
      "Formate transport via diffusion  FORti : for_c --> for_e : 0.0 : 1000.0\n",
      "Fumarate reductase  FRD7 : fum_c + q8h2_c --> q8_c + succ_c : 0.0 : 1000.0\n",
      "Fructose transport via PEP:Pyr PTS (f6p generating)  FRUpts2 : fru_e + pep_c --> f6p_c + pyr_c : 0.0 : 1000.0\n",
      "Fumarase  FUM : fum_c + h2o_c <=> mal__L_c : -1000.0 : 1000.0\n",
      "Fumarate transport via proton symport (2 H)  FUMt2_2 : fum_e + 2.0 h_e --> fum_c + 2.0 h_c : 0.0 : 1000.0\n",
      "Glucose 6-phosphate dehydrogenase  G6PDH2r : g6p_c + nadp_c <=> 6pgl_c + h_c + nadph_c : -1000.0 : 1000.0\n",
      "Glyceraldehyde-3-phosphate dehydrogenase  GAPD : g3p_c + nad_c + pi_c <=> 13dpg_c + h_c + nadh_c : -1000.0 : 1000.0\n",
      "D-glucose transport via PEP:Pyr PTS  GLCpts : glc__D_e + pep_c --> g6p_c + pyr_c : 0.0 : 1000.0\n",
      "Glutamine synthetase  GLNS : atp_c + glu__L_c + nh4_c --> adp_c + gln__L_c + h_c + pi_c : 0.0 : 1000.0\n",
      "GLNabc  GLNabc : atp_c + gln__L_e + h2o_c --> adp_c + gln__L_c + h_c + pi_c : 0.0 : 1000.0\n",
      "Glutamate dehydrogenase (NADP)  GLUDy : glu__L_c + h2o_c + nadp_c <=> akg_c + h_c + nadph_c + nh4_c : -1000.0 : 1000.0\n",
      "Glutaminase  GLUN : gln__L_c + h2o_c --> glu__L_c + nh4_c : 0.0 : 1000.0\n",
      "Glutamate synthase (NADPH)  GLUSy : akg_c + gln__L_c + h_c + nadph_c --> 2.0 glu__L_c + nadp_c : 0.0 : 1000.0\n",
      "L glutamate transport via proton symport  reversible  GLUt2r : glu__L_e + h_e <=> glu__L_c + h_c : -1000.0 : 1000.0\n",
      "Phosphogluconate dehydrogenase  GND : 6pgc_c + nadp_c --> co2_c + nadph_c + ru5p__D_c : 0.0 : 1000.0\n",
      "H2O transport via diffusion  H2Ot : h2o_e <=> h2o_c : -1000.0 : 1000.0\n",
      "Isocitrate dehydrogenase (NADP)  ICDHyr : icit_c + nadp_c <=> akg_c + co2_c + nadph_c : -1000.0 : 1000.0\n",
      "Isocitrate lyase  ICL : icit_c --> glx_c + succ_c : 0.0 : 1000.0\n",
      "D-lactate dehydrogenase  LDH_D : lac__D_c + nad_c <=> h_c + nadh_c + pyr_c : -1000.0 : 1000.0\n",
      "Malate synthase  MALS : accoa_c + glx_c + h2o_c --> coa_c + h_c + mal__L_c : 0.0 : 1000.0\n",
      "Malate transport via proton symport (2 H)  MALt2_2 : 2.0 h_e + mal__L_e --> 2.0 h_c + mal__L_c : 0.0 : 1000.0\n",
      "Malate dehydrogenase  MDH : mal__L_c + nad_c <=> h_c + nadh_c + oaa_c : -1000.0 : 1000.0\n",
      "Malic enzyme (NAD)  ME1 : mal__L_c + nad_c --> co2_c + nadh_c + pyr_c : 0.0 : 1000.0\n",
      "Malic enzyme (NADP)  ME2 : mal__L_c + nadp_c --> co2_c + nadph_c + pyr_c : 0.0 : 1000.0\n",
      "NADH dehydrogenase (ubiquinone-8 & 3 protons)  NADH16 : 4.0 h_c + nadh_c + q8_c --> 3.0 h_e + nad_c + q8h2_c : 0.0 : 1000.0\n",
      "NAD transhydrogenase  NADTRHD : nad_c + nadph_c --> nadh_c + nadp_c : 0.0 : 1000.0\n",
      "Ammonia reversible transport  NH4t : nh4_e <=> nh4_c : -1000.0 : 1000.0\n",
      "O2 transport  diffusion   O2t : o2_e <=> o2_c : -1000.0 : 1000.0\n",
      "Pyruvate dehydrogenase  PDH : coa_c + nad_c + pyr_c --> accoa_c + co2_c + nadh_c : 0.0 : 1000.0\n",
      "Phosphofructokinase  PFK : atp_c + f6p_c --> adp_c + fdp_c + h_c : 0.0 : 1000.0\n",
      "Pyruvate formate lyase  PFL : coa_c + pyr_c --> accoa_c + for_c : 0.0 : 1000.0\n",
      "Glucose-6-phosphate isomerase  PGI : g6p_c <=> f6p_c : -1000.0 : 1000.0\n",
      "Phosphoglycerate kinase  PGK : 3pg_c + atp_c <=> 13dpg_c + adp_c : -1000.0 : 1000.0\n",
      "6-phosphogluconolactonase  PGL : 6pgl_c + h2o_c --> 6pgc_c + h_c : 0.0 : 1000.0\n",
      "Phosphoglycerate mutase  PGM : 2pg_c <=> 3pg_c : -1000.0 : 1000.0\n",
      "Phosphate reversible transport via symport  PIt2r : h_e + pi_e <=> h_c + pi_c : -1000.0 : 1000.0\n",
      "Phosphoenolpyruvate carboxylase  PPC : co2_c + h2o_c + pep_c --> h_c + oaa_c + pi_c : 0.0 : 1000.0\n",
      "Phosphoenolpyruvate carboxykinase  PPCK : atp_c + oaa_c --> adp_c + co2_c + pep_c : 0.0 : 1000.0\n",
      "Phosphoenolpyruvate synthase  PPS : atp_c + h2o_c + pyr_c --> amp_c + 2.0 h_c + pep_c + pi_c : 0.0 : 1000.0\n",
      "Phosphotransacetylase  PTAr : accoa_c + pi_c <=> actp_c + coa_c : -1000.0 : 1000.0\n",
      "Pyruvate kinase  PYK : adp_c + h_c + pep_c --> atp_c + pyr_c : 0.0 : 1000.0\n",
      "Pyruvate transport in via proton symport  PYRt2 : h_e + pyr_e <=> h_c + pyr_c : -1000.0 : 1000.0\n",
      "Ribulose 5-phosphate 3-epimerase  RPE : ru5p__D_c <=> xu5p__D_c : -1000.0 : 1000.0\n",
      "Ribose-5-phosphate isomerase  RPI : r5p_c <=> ru5p__D_c : -1000.0 : 1000.0\n",
      "Succinate transport via proton symport (2 H)  SUCCt2_2 : 2.0 h_e + succ_e --> 2.0 h_c + succ_c : 0.0 : 1000.0\n",
      "Succinate transport out via proton antiport  SUCCt3 : h_e + succ_c --> h_c + succ_e : 0.0 : 1000.0\n",
      "Succinate dehydrogenase (irreversible)  SUCDi : q8_c + succ_c --> fum_c + q8h2_c : 0.0 : 1000.0\n",
      "Succinyl-CoA synthetase (ADP-forming)  SUCOAS : atp_c + coa_c + succ_c <=> adp_c + pi_c + succoa_c : -1000.0 : 1000.0\n",
      "Transaldolase  TALA : g3p_c + s7p_c <=> e4p_c + f6p_c : -1000.0 : 1000.0\n",
      "NAD(P) transhydrogenase  THD2 : 2.0 h_e + nadh_c + nadp_c --> 2.0 h_c + nad_c + nadph_c : 0.0 : 1000.0\n",
      "Transketolase  TKT1 : r5p_c + xu5p__D_c <=> g3p_c + s7p_c : -1000.0 : 1000.0\n",
      "Transketolase  TKT2 : e4p_c + xu5p__D_c <=> f6p_c + g3p_c : -1000.0 : 1000.0\n",
      "Triose-phosphate isomerase  TPI : dhap_c <=> g3p_c : -1000.0 : 1000.0\n"
     ]
    }
   ],
   "source": [
    "# exercise 2.5\n",
    "\n",
    "## import model\n",
    "ecoli_model = cobra.io.read_sbml_model('e_coli_core.xml')\n",
    "\n",
    "for x in ecoli_model.reactions:\n",
    "    print(f\"{x.name}  {x.id} : {x.reaction} : {x.lower_bound} : {x.upper_bound}\")"
   ]
  },
  {
   "cell_type": "code",
   "execution_count": 60,
   "metadata": {},
   "outputs": [
    {
     "name": "stdout",
     "output_type": "stream",
     "text": [
      "137\n",
      "b0351\n",
      "b1241\n",
      "s0001\n",
      "b1849\n",
      "b3115\n",
      "b2296\n",
      "b1276\n",
      "b0118\n",
      "b0474\n",
      "b0116\n",
      "b0726\n",
      "b0727\n",
      "b2587\n",
      "b0356\n",
      "b1478\n",
      "b3731\n",
      "b3733\n",
      "b3735\n",
      "b3739\n",
      "b3732\n",
      "b3737\n",
      "b3736\n",
      "b3738\n",
      "b3734\n",
      "b0720\n",
      "b0979\n",
      "b0978\n",
      "b0733\n",
      "b0734\n",
      "b2975\n",
      "b3603\n",
      "b2779\n",
      "b2925\n",
      "b1773\n",
      "b2097\n",
      "b3925\n",
      "b4232\n",
      "b0904\n",
      "b2492\n",
      "b4151\n",
      "b4154\n",
      "b4152\n",
      "b4153\n",
      "b1817\n",
      "b2415\n",
      "b1818\n",
      "b1819\n",
      "b2416\n",
      "b4122\n",
      "b1612\n",
      "b1611\n",
      "b3528\n",
      "b1852\n",
      "b1779\n",
      "b1101\n",
      "b1621\n",
      "b2417\n",
      "b3870\n",
      "b1297\n",
      "b0810\n",
      "b0809\n",
      "b0811\n",
      "b1761\n",
      "b1524\n",
      "b1812\n",
      "b0485\n",
      "b3213\n",
      "b3212\n",
      "b4077\n",
      "b2029\n",
      "b0875\n",
      "b1136\n",
      "b4015\n",
      "b2133\n",
      "b1380\n",
      "b4014\n",
      "b2976\n",
      "b3236\n",
      "b1479\n",
      "b2463\n",
      "b2279\n",
      "b2282\n",
      "b2284\n",
      "b2287\n",
      "b2276\n",
      "b2278\n",
      "b2288\n",
      "b2285\n",
      "b2280\n",
      "b2281\n",
      "b2283\n",
      "b2286\n",
      "b2277\n",
      "b1602\n",
      "b3962\n",
      "b1603\n",
      "b0451\n",
      "b0114\n",
      "b0115\n",
      "b3916\n",
      "b1723\n",
      "b3114\n",
      "b3951\n",
      "b0902\n",
      "b2579\n",
      "b0903\n",
      "b3952\n",
      "b4025\n",
      "b2926\n",
      "b0767\n",
      "b3612\n",
      "b4395\n",
      "b0755\n",
      "b2987\n",
      "b3493\n",
      "b3956\n",
      "b3403\n",
      "b1702\n",
      "b2297\n",
      "b2458\n",
      "b1676\n",
      "b1854\n",
      "b4301\n",
      "b3386\n",
      "b2914\n",
      "b4090\n",
      "b0722\n",
      "b0724\n",
      "b0723\n",
      "b0721\n",
      "b0729\n",
      "b0728\n",
      "b0008\n",
      "b2464\n",
      "b2935\n",
      "b2465\n",
      "b3919\n"
     ]
    }
   ],
   "source": [
    "print(len(ecoli_model.genes))\n",
    "for x in ecoli_model.genes:\n",
    "    print(x.id)"
   ]
  },
  {
   "cell_type": "code",
   "execution_count": 61,
   "metadata": {},
   "outputs": [
    {
     "name": "stdout",
     "output_type": "stream",
     "text": [
      "72\n",
      "13dpg_c\n",
      "2pg_c\n",
      "3pg_c\n",
      "6pgc_c\n",
      "6pgl_c\n",
      "ac_c\n",
      "ac_e\n",
      "acald_c\n",
      "acald_e\n",
      "accoa_c\n",
      "acon_C_c\n",
      "actp_c\n",
      "adp_c\n",
      "akg_c\n",
      "akg_e\n",
      "amp_c\n",
      "atp_c\n",
      "cit_c\n",
      "co2_c\n",
      "co2_e\n",
      "coa_c\n",
      "dhap_c\n",
      "e4p_c\n",
      "etoh_c\n",
      "etoh_e\n",
      "f6p_c\n",
      "fdp_c\n",
      "for_c\n",
      "for_e\n",
      "fru_e\n",
      "fum_c\n",
      "fum_e\n",
      "g3p_c\n",
      "g6p_c\n",
      "glc__D_e\n",
      "gln__L_c\n",
      "gln__L_e\n",
      "glu__L_c\n",
      "glu__L_e\n",
      "glx_c\n",
      "h2o_c\n",
      "h2o_e\n",
      "h_c\n",
      "h_e\n",
      "icit_c\n",
      "lac__D_c\n",
      "lac__D_e\n",
      "mal__L_c\n",
      "mal__L_e\n",
      "nad_c\n",
      "nadh_c\n",
      "nadp_c\n",
      "nadph_c\n",
      "nh4_c\n",
      "nh4_e\n",
      "o2_c\n",
      "o2_e\n",
      "oaa_c\n",
      "pep_c\n",
      "pi_c\n",
      "pi_e\n",
      "pyr_c\n",
      "pyr_e\n",
      "q8_c\n",
      "q8h2_c\n",
      "r5p_c\n",
      "ru5p__D_c\n",
      "s7p_c\n",
      "succ_c\n",
      "succ_e\n",
      "succoa_c\n",
      "xu5p__D_c\n"
     ]
    }
   ],
   "source": [
    "# provide metabolites\n",
    "print(len(ecoli_model.metabolites))\n",
    "list_meta = []\n",
    "for x in ecoli_model.metabolites:\n",
    "    list_meta .append(x)\n",
    "    print(x.id)"
   ]
  },
  {
   "cell_type": "code",
   "execution_count": 62,
   "metadata": {},
   "outputs": [
    {
     "name": "stdout",
     "output_type": "stream",
     "text": [
      "Acetate exchange  EX_ac_e : ac_e -->  : 0.0 : 1000.0\n",
      "Acetaldehyde exchange  EX_acald_e : acald_e -->  : 0.0 : 1000.0\n",
      "2-Oxoglutarate exchange  EX_akg_e : akg_e -->  : 0.0 : 1000.0\n",
      "CO2 exchange  EX_co2_e : co2_e <=>  : -1000.0 : 1000.0\n",
      "Ethanol exchange  EX_etoh_e : etoh_e -->  : 0.0 : 1000.0\n",
      "Formate exchange  EX_for_e : for_e -->  : 0.0 : 1000.0\n",
      "D-Fructose exchange  EX_fru_e : fru_e -->  : 0.0 : 1000.0\n",
      "Fumarate exchange  EX_fum_e : fum_e -->  : 0.0 : 1000.0\n",
      "D-Glucose exchange  EX_glc__D_e : glc__D_e <=>  : -10.0 : 1000.0\n",
      "L-Glutamine exchange  EX_gln__L_e : gln__L_e -->  : 0.0 : 1000.0\n",
      "L-Glutamate exchange  EX_glu__L_e : glu__L_e -->  : 0.0 : 1000.0\n",
      "H+ exchange  EX_h_e : h_e <=>  : -1000.0 : 1000.0\n",
      "H2O exchange  EX_h2o_e : h2o_e <=>  : -1000.0 : 1000.0\n",
      "D-lactate exchange  EX_lac__D_e : lac__D_e -->  : 0.0 : 1000.0\n",
      "L-Malate exchange  EX_mal__L_e : mal__L_e -->  : 0.0 : 1000.0\n",
      "Ammonia exchange  EX_nh4_e : nh4_e <=>  : -1000.0 : 1000.0\n",
      "O2 exchange  EX_o2_e : o2_e <=>  : -20.0 : 1000.0\n",
      "Phosphate exchange  EX_pi_e : pi_e <=>  : -1000.0 : 1000.0\n",
      "Pyruvate exchange  EX_pyr_e : pyr_e -->  : 0.0 : 1000.0\n",
      "Succinate exchange  EX_succ_e : succ_e -->  : 0.0 : 1000.0\n"
     ]
    }
   ],
   "source": [
    "# external reactions\n",
    "\n",
    "for x in ecoli_model.reactions:\n",
    "    if x.id.startswith(\"EX_\"):\n",
    "        print(f\"{x.name}  {x.id} : {x.reaction} : {x.lower_bound} : {x.upper_bound}\")"
   ]
  },
  {
   "cell_type": "code",
   "execution_count": 63,
   "metadata": {},
   "outputs": [
    {
     "name": "stdout",
     "output_type": "stream",
     "text": [
      "Acetate exchange  EX_ac_e : ac_e -->  : 0.0 : 1000.0\n",
      "Acetaldehyde exchange  EX_acald_e : acald_e -->  : 0.0 : 1000.0\n",
      "2-Oxoglutarate exchange  EX_akg_e : akg_e -->  : 0.0 : 1000.0\n",
      "CO2 exchange  EX_co2_e : co2_e <=>  : -1000.0 : 1000.0\n",
      "Ethanol exchange  EX_etoh_e : etoh_e -->  : 0.0 : 1000.0\n",
      "Formate exchange  EX_for_e : for_e -->  : 0.0 : 1000.0\n",
      "D-Fructose exchange  EX_fru_e : fru_e -->  : 0.0 : 1000.0\n",
      "Fumarate exchange  EX_fum_e : fum_e -->  : 0.0 : 1000.0\n",
      "D-Glucose exchange  EX_glc__D_e : glc__D_e <=>  : -10.0 : 1000.0\n",
      "L-Glutamine exchange  EX_gln__L_e : gln__L_e -->  : 0.0 : 1000.0\n",
      "L-Glutamate exchange  EX_glu__L_e : glu__L_e -->  : 0.0 : 1000.0\n",
      "H+ exchange  EX_h_e : h_e <=>  : -1000.0 : 1000.0\n",
      "H2O exchange  EX_h2o_e : h2o_e <=>  : -1000.0 : 1000.0\n",
      "D-lactate exchange  EX_lac__D_e : lac__D_e -->  : 0.0 : 1000.0\n",
      "L-Malate exchange  EX_mal__L_e : mal__L_e -->  : 0.0 : 1000.0\n",
      "Ammonia exchange  EX_nh4_e : nh4_e <=>  : -1000.0 : 1000.0\n",
      "O2 exchange  EX_o2_e : o2_e <=>  : -20.0 : 1000.0\n",
      "Phosphate exchange  EX_pi_e : pi_e <=>  : -1000.0 : 1000.0\n",
      "Pyruvate exchange  EX_pyr_e : pyr_e -->  : 0.0 : 1000.0\n",
      "Succinate exchange  EX_succ_e : succ_e -->  : 0.0 : 1000.0\n"
     ]
    }
   ],
   "source": [
    "# external reactions 2\n",
    "\n",
    "for x in ecoli_model.exchanges:\n",
    "    print(f\"{x.name}  {x.id} : {x.reaction} : {x.lower_bound} : {x.upper_bound}\")"
   ]
  },
  {
   "cell_type": "code",
   "execution_count": 64,
   "metadata": {},
   "outputs": [
    {
     "data": {
      "text/html": [
       "<h3>glc__D_e</h3><p>C6H12O6</p><h4>Producing Reactions</h4><table border=\"1\" class=\"dataframe\">\n",
       "  <thead>\n",
       "    <tr style=\"text-align: right;\">\n",
       "      <th>Percent</th>\n",
       "      <th>Flux</th>\n",
       "      <th>Reaction</th>\n",
       "      <th>Definition</th>\n",
       "    </tr>\n",
       "  </thead>\n",
       "  <tbody>\n",
       "    <tr>\n",
       "      <td>100.00%</td>\n",
       "      <td>10</td>\n",
       "      <td>EX_glc__D_e</td>\n",
       "      <td>glc__D_e &lt;=&gt;</td>\n",
       "    </tr>\n",
       "  </tbody>\n",
       "</table><h4>Consuming Reactions</h4><table border=\"1\" class=\"dataframe\">\n",
       "  <thead>\n",
       "    <tr style=\"text-align: right;\">\n",
       "      <th>Percent</th>\n",
       "      <th>Flux</th>\n",
       "      <th>Reaction</th>\n",
       "      <th>Definition</th>\n",
       "    </tr>\n",
       "  </thead>\n",
       "  <tbody>\n",
       "    <tr>\n",
       "      <td>100.00%</td>\n",
       "      <td>-10</td>\n",
       "      <td>GLCpts</td>\n",
       "      <td>glc__D_e + pep_c --&gt; g6p_c + pyr_c</td>\n",
       "    </tr>\n",
       "  </tbody>\n",
       "</table>"
      ],
      "text/plain": [
       "<cobra.summary.metabolite_summary.MetaboliteSummary at 0x7f8c610ae070>"
      ]
     },
     "execution_count": 64,
     "metadata": {},
     "output_type": "execute_result"
    }
   ],
   "source": [
    "ecoli_model.metabolites.glc__D_e.summary()"
   ]
  },
  {
   "cell_type": "code",
   "execution_count": 67,
   "metadata": {},
   "outputs": [
    {
     "name": "stdout",
     "output_type": "stream",
     "text": [
      "0.8326136426821366\n",
      "Objective\n",
      "=========\n",
      "1.0 BIOMASS_Ecoli_core_w_GAM = 0.8326136426821368\n",
      "\n",
      "Uptake\n",
      "------\n",
      "Metabolite     Reaction  Flux  C-Number   C-Flux\n",
      "  glc__D_e  EX_glc__D_e    10         6  100.00%\n",
      "     nh4_e     EX_nh4_e  4.54         0    0.00%\n",
      "      o2_e      EX_o2_e    20         0    0.00%\n",
      "      pi_e      EX_pi_e 3.063         0    0.00%\n",
      "\n",
      "Secretion\n",
      "---------\n",
      "Metabolite  Reaction   Flux  C-Number  C-Flux\n",
      "      ac_e   EX_ac_e -1.803         2  14.67%\n",
      "     co2_e  EX_co2_e -20.96         1  85.33%\n",
      "     h2o_e  EX_h2o_e -27.03         0   0.00%\n",
      "       h_e    EX_h_e  -18.5         0   0.00%\n",
      "\n"
     ]
    }
   ],
   "source": [
    "fba_solution = ecoli_model.optimize()\n",
    "print(fba_solution.objective_value)\n",
    "print(ecoli_model.summary())"
   ]
  },
  {
   "cell_type": "code",
   "execution_count": 74,
   "metadata": {},
   "outputs": [],
   "source": [
    "# exercise 2.6\n",
    "\n",
    "import matplotlib.pyplot as plt\n",
    "list_res = []\n",
    "\n",
    "for i in range(51):\n",
    "    ecoli_model.reactions.get_by_id('EX_glc__D_e').lower_bound = float(-i)\n",
    "    fba_solution = ecoli_model.optimize()\n",
    "    list_res.append(fba_solution.objective_value)"
   ]
  },
  {
   "cell_type": "code",
   "execution_count": 75,
   "metadata": {},
   "outputs": [
    {
     "data": {
      "text/plain": [
       "[<matplotlib.lines.Line2D at 0x7f8c72faa2e0>]"
      ]
     },
     "execution_count": 75,
     "metadata": {},
     "output_type": "execute_result"
    },
    {
     "data": {
      "image/png": "[encoded data removed]",
      "text/plain": [
       "<Figure size 432x288 with 1 Axes>"
      ]
     },
     "metadata": {
      "needs_background": "light"
     },
     "output_type": "display_data"
    }
   ],
   "source": [
    "plt.plot(range(51),list_res)"
   ]
  },
  {
   "cell_type": "code",
   "execution_count": 80,
   "metadata": {},
   "outputs": [
    {
     "data": {
      "image/png": "[encoded data removed]",
      "text/plain": [
       "<Figure size 432x288 with 1 Axes>"
      ]
     },
     "metadata": {
      "needs_background": "light"
     },
     "output_type": "display_data"
    }
   ],
   "source": [
    "# exercise 2.7\n",
    "\n",
    "fig, ax = plt.subplots()\n",
    "\n",
    "gluc_res = []\n",
    "ex_o2 = []\n",
    "ex_co2 = []\n",
    "ex_ac = []\n",
    "ex_etoh = []\n",
    "\n",
    "for i in range(50):\n",
    "    ecoli_model.reactions.get_by_id('EX_glc__D_e').lower_bound = float(-i)\n",
    "    fba_solution = ecoli_model.optimize()\n",
    "    \n",
    "    gluc_res.append(fba_solution.objective_value)\n",
    "    ex_o2.append(fba_solution.fluxes[\"EX_o2_e\"])\n",
    "    ex_co2.append(fba_solution.fluxes[\"EX_co2_e\"])\n",
    "    ex_ac.append(fba_solution.fluxes[\"EX_ac_e\"])\n",
    "    ex_etoh.append(fba_solution.fluxes[\"EX_etoh_e\"])\n",
    "\n"
   ]
  },
  {
   "cell_type": "code",
   "execution_count": 87,
   "metadata": {},
   "outputs": [
    {
     "data": {
      "text/plain": [
       "<matplotlib.legend.Legend at 0x7f8c812703a0>"
      ]
     },
     "execution_count": 87,
     "metadata": {},
     "output_type": "execute_result"
    },
    {
     "data": {
      "text/plain": [
       "<Figure size 3600x3600 with 0 Axes>"
      ]
     },
     "metadata": {},
     "output_type": "display_data"
    },
    {
     "data": {
      "image/png": "[encoded data removed]",
      "text/plain": [
       "<Figure size 432x288 with 1 Axes>"
      ]
     },
     "metadata": {
      "needs_background": "light"
     },
     "output_type": "display_data"
    }
   ],
   "source": [
    "plt.figure(figsize=(50,50))\n",
    "fig, ax = plt.subplots()\n",
    "\n",
    "ax.plot(range(50),gluc_res,label='EX_glc__D_e')\n",
    "ax.plot(range(50),ex_o2,label=\"EX_o2_e\")\n",
    "ax.plot(range(50),ex_co2,label=\"EX_co2_e\")\n",
    "ax.plot(range(50),ex_ac,label=\"EX_ac_e\")\n",
    "ax.plot(range(50),ex_etoh,label=\"EX_etoh_e\")\n",
    "\n",
    "plt.legend()"
   ]
  },
  {
   "cell_type": "code",
   "execution_count": 13,
   "metadata": {},
   "outputs": [],
   "source": [
    "# exercise 2.8\n",
    "\n",
    "\n",
    "## import model\n",
    "ecoli_model = cobra.io.read_sbml_model('e_coli_core.xml')"
   ]
  },
  {
   "cell_type": "code",
   "execution_count": 14,
   "metadata": {},
   "outputs": [],
   "source": [
    "# make acetat the only source of carbon\n",
    "\n",
    "\n",
    "list_carbon_sources = [\"EX_ac_e\", \"EX_ac_e\", \"EX_akg_e\", \"EX_co2_e\", \"EX_etoh_e\", \"EX_for_e\", \"EX_fru_e\", \"EX_fum_e\", \"EX_glc__D_e\", \"EX_gln__L_e\", \"EX_glu__L_e\", \"EX_lac__D_e\", \"EX_mal__L_e\",\"EX_pyr_e\", \"EX_succ_e\"]\n",
    "\n",
    "for reaction in list_carbon_sources:\n",
    "    if reaction == \"EX_ac_e\":\n",
    "        ecoli_model.reactions.get_by_id(reaction).lower_bound = -10\n",
    "    else:\n",
    "        ecoli_model.reactions.get_by_id(reaction).lower_bound = 0\n"
   ]
  },
  {
   "cell_type": "code",
   "execution_count": 15,
   "metadata": {},
   "outputs": [
    {
     "data": {
      "text/plain": [
       "0.1733385844777864"
      ]
     },
     "execution_count": 15,
     "metadata": {},
     "output_type": "execute_result"
    }
   ],
   "source": [
    "fba_solution = ecoli_model.optimize()\n",
    "\n",
    "fba_solution.objective_value"
   ]
  },
  {
   "cell_type": "code",
   "execution_count": 16,
   "metadata": {},
   "outputs": [],
   "source": [
    "# set glucose as carbon source\n",
    "\n",
    "list_carbon_sources = [\"EX_ac_e\", \"EX_ac_e\", \"EX_akg_e\", \"EX_co2_e\", \"EX_etoh_e\", \"EX_for_e\", \"EX_fru_e\", \"EX_fum_e\", \"EX_glc__D_e\", \"EX_gln__L_e\", \"EX_glu__L_e\", \"EX_lac__D_e\", \"EX_mal__L_e\",\"EX_pyr_e\", \"EX_succ_e\"]\n",
    "\n",
    "for reaction in list_carbon_sources:\n",
    "    if reaction == \"EX_glc__D_e\":\n",
    "        ecoli_model.reactions.get_by_id(reaction).lower_bound = -10\n",
    "    else:\n",
    "        ecoli_model.reactions.get_by_id(reaction).lower_bound = 0"
   ]
  },
  {
   "cell_type": "code",
   "execution_count": 17,
   "metadata": {},
   "outputs": [
    {
     "data": {
      "text/plain": [
       "0.8326136426821468"
      ]
     },
     "execution_count": 17,
     "metadata": {},
     "output_type": "execute_result"
    }
   ],
   "source": [
    "fba_solution = ecoli_model.optimize()\n",
    "\n",
    "fba_solution.objective_value"
   ]
  },
  {
   "cell_type": "code",
   "execution_count": 38,
   "metadata": {},
   "outputs": [
    {
     "name": "stdout",
     "output_type": "stream",
     "text": [
      "EX_ac_e\n",
      "EX_acald_e\n",
      "EX_akg_e\n",
      "EX_co2_e\n",
      "EX_etoh_e\n",
      "EX_for_e\n",
      "EX_fru_e\n",
      "EX_fum_e\n",
      "EX_glc__D_e\n",
      "EX_gln__L_e\n",
      "EX_glu__L_e\n",
      "EX_lac__D_e\n",
      "EX_mal__L_e\n",
      "EX_pyr_e\n",
      "EX_succ_e\n"
     ]
    }
   ],
   "source": [
    "# exercise 2.9\n",
    "\n",
    "# possible carbon sources\n",
    "possible_carbon_sources = []\n",
    "for reaction in ecoli_model.exchanges:\n",
    "    for met in reaction.metabolites:\n",
    "        if \"C\" in met.elements:\n",
    "            possible_carbon_sources.append(reaction.id)\n",
    "            print(reaction.id)"
   ]
  }
 ],
 "metadata": {
  "kernelspec": {
   "display_name": "Python 3 (ipykernel)",
   "language": "python",
   "name": "python3"
  },
  "language_info": {
   "codemirror_mode": {
    "name": "ipython",
    "version": 3
   },
   "file_extension": ".py",
   "mimetype": "text/x-python",
   "name": "python",
   "nbconvert_exporter": "python",
   "pygments_lexer": "ipython3",
   "version": "3.9.12"
  }
 },
 "nbformat": 4,
 "nbformat_minor": 4
}
