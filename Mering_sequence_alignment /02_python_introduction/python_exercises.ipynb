{
 "cells": [
  {
   "cell_type": "code",
   "execution_count": 1,
   "id": "e3628bfc-6abb-4e60-a619-1e7b490e7e9d",
   "metadata": {},
   "outputs": [],
   "source": [
    "# exercise 1\n",
    "some_dna = \"aACTa TtCcC acCtc\\tcaTCC CGGCc\\nTaTaT CTGaa\""
   ]
  },
  {
   "cell_type": "code",
   "execution_count": 11,
   "id": "fa766e23-9c7e-42db-9beb-5625408c8f20",
   "metadata": {},
   "outputs": [],
   "source": [
    "dna = some_dna.replace(\"\\t\",\" \")\n",
    "dna = dna.replace(\" \",\"\\n\")\n",
    "dna_pieces = dna.upper().split(\"\\n\")\n",
    "dna = dna.upper()"
   ]
  },
  {
   "cell_type": "code",
   "execution_count": 12,
   "id": "0237110d-2fd1-482d-888b-50ba6d5851d2",
   "metadata": {},
   "outputs": [
    {
     "name": "stdout",
     "output_type": "stream",
     "text": [
      "['AACTA', 'TTCCC', 'ACCTC', 'CATCC', 'CGGCC', 'TATAT', 'CTGAA']\n"
     ]
    }
   ],
   "source": [
    "print(dna_pieces)\n",
    "print(dna)"
   ]
  },
  {
   "cell_type": "code",
   "execution_count": 17,
   "id": "12e219d2-e650-4242-a9cc-57480a994b88",
   "metadata": {},
   "outputs": [],
   "source": [
    "# exercise 2\n",
    "def count_nucleotides(path):\n",
    "    with open(path,\"r\") as file:\n",
    "        text = file.read()\n",
    "        text = text.replace(\"\\n\",\"\")\n",
    "    dic = {}\n",
    "    for n in text:\n",
    "        if n not in dic.keys():\n",
    "            dic[n] = 0\n",
    "        dic[n] += 1\n",
    "    return dic"
   ]
  },
  {
   "cell_type": "code",
   "execution_count": 18,
   "id": "fc3df321-c720-4b16-baa7-e3c327aa352f",
   "metadata": {},
   "outputs": [
    {
     "name": "stdout",
     "output_type": "stream",
     "text": [
      "{'T': 31, 'A': 62, 'C': 159, 'G': 148}\n"
     ]
    }
   ],
   "source": [
    "print(count_nucleotides(\"exercises/files/exercise_2/strange_dna.txt\"))"
   ]
  },
  {
   "cell_type": "code",
   "execution_count": null,
   "id": "11a61019-6b5d-4cc2-87b1-c9c8b7d27f71",
   "metadata": {},
   "outputs": [],
   "source": [
    "# exercise 3/4\n"
   ]
  }
 ],
 "metadata": {
  "kernelspec": {
   "display_name": "Python 3 (ipykernel)",
   "language": "python",
   "name": "python3"
  },
  "language_info": {
   "codemirror_mode": {
    "name": "ipython",
    "version": 3
   },
   "file_extension": ".py",
   "mimetype": "text/x-python",
   "name": "python",
   "nbconvert_exporter": "python",
   "pygments_lexer": "ipython3",
   "version": "3.9.12"
  }
 },
 "nbformat": 4,
 "nbformat_minor": 5
}
