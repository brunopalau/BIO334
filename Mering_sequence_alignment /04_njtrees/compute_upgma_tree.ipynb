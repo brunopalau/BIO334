{
 "cells": [
  {
   "cell_type": "code",
   "execution_count": 4,
   "id": "898b5f4b-2d8a-4cec-ad25-14a1e0b3cf71",
   "metadata": {},
   "outputs": [],
   "source": [
    "import numpy as np"
   ]
  },
  {
   "cell_type": "code",
   "execution_count": 5,
   "id": "76577b6c-71ac-4cd5-85bb-260ea5163946",
   "metadata": {},
   "outputs": [],
   "source": [
    "Protein_Q = \"GDRVG RKFII WFSIL GTAPF ALWLP YAD-A DTTAI LVILI GFIIS SAFAS\"\n",
    "Protein_A = \"GDRVG RKFII WFSIL GAAPF ALWLP YAD-A QTTAI LIVLI GFIIS SAFAS\"\n",
    "Protein_B = \"GDKVG RKYII WFSVL GVAPF TMLLP YAS-L EWTGI LIVII GLILS SAFPS\"\n",
    "Protein_C = \"GDRFG RKYVI WFSIL GTAPF ALMLP YAN-L FWTGV LIVPI GMILA SAFSA\"\n",
    "Protein_D = \"GDRIG RKYVI WGSIL GVAPF TLILP YAS-L YWTGI LTVII GFILA SAFSA\"\n",
    "\n",
    "sequences = [ Protein_Q,Protein_A,Protein_B,Protein_C,Protein_D]"
   ]
  },
  {
   "cell_type": "code",
   "execution_count": 9,
   "id": "68dd39f7-09fc-4a99-a153-53f87a5daa28",
   "metadata": {},
   "outputs": [],
   "source": [
    "def distance(s1,s2):\n",
    "    same = 0\n",
    "    s1 = s1.replace(\" \",\"\")\n",
    "    s2 = s2.replace(\" \",\"\")\n",
    "    for n1,n2 in zip(s1,s2):\n",
    "        if n1 == n2:\n",
    "            same += 1\n",
    "    return 1 - (same/len(s1))\n",
    "                              "
   ]
  },
  {
   "cell_type": "code",
   "execution_count": 16,
   "id": "3f300436-78f4-4d5c-b1d0-f01fc1fabe0d",
   "metadata": {},
   "outputs": [],
   "source": [
    "def build_matrix(sequences):\n",
    "    matrix = np.full((len(sequences),len(sequences)),fill_value=np.inf)\n",
    "    for i, s1 in enumerate(sequences):\n",
    "        for j,s2 in enumerate(sequences[i+1:]):\n",
    "            matrix[i,j] = distance(s1,s2)\n",
    "    return matrix"
   ]
  },
  {
   "cell_type": "code",
   "execution_count": 18,
   "id": "19525c17-238e-4c23-9f10-79f56771d200",
   "metadata": {},
   "outputs": [],
   "source": [
    "def take_neigh(matrix):\n",
    "    minimum = np.amin(matrix)\n",
    "    pos = np.where(matrix == minimum)\n",
    "    return minimum,pos"
   ]
  },
  {
   "cell_type": "code",
   "execution_count": 21,
   "id": "e97362f9-5512-42ff-a71a-8b93ea92a812",
   "metadata": {},
   "outputs": [],
   "source": [
    "matrix = build_matrix(sequences)"
   ]
  },
  {
   "cell_type": "code",
   "execution_count": 22,
   "id": "616386be-6907-4ad8-b6b1-979be60bdccc",
   "metadata": {},
   "outputs": [
    {
     "name": "stdout",
     "output_type": "stream",
     "text": [
      "(0.07999999999999996, (array([0]), array([0])))\n"
     ]
    }
   ],
   "source": [
    "print(take_neigh(matrix))"
   ]
  },
  {
   "cell_type": "code",
   "execution_count": null,
   "id": "058bdc1a-c497-43f4-ab53-3f9fd4939f41",
   "metadata": {},
   "outputs": [],
   "source": []
  }
 ],
 "metadata": {
  "kernelspec": {
   "display_name": "Python 3 (ipykernel)",
   "language": "python",
   "name": "python3"
  },
  "language_info": {
   "codemirror_mode": {
    "name": "ipython",
    "version": 3
   },
   "file_extension": ".py",
   "mimetype": "text/x-python",
   "name": "python",
   "nbconvert_exporter": "python",
   "pygments_lexer": "ipython3",
   "version": "3.9.12"
  }
 },
 "nbformat": 4,
 "nbformat_minor": 5
}
